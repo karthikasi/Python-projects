{
 "cells": [
  {
   "cell_type": "code",
   "execution_count": 1,
   "id": "c0943e53",
   "metadata": {},
   "outputs": [],
   "source": [
    "import tkinter\n",
    "from tkinter import *"
   ]
  },
  {
   "cell_type": "code",
   "execution_count": 7,
   "id": "6fc73226",
   "metadata": {},
   "outputs": [],
   "source": [
    "root = Tk()\n",
    "root.title(\"Basic Calculator\")\n",
    "root.geometry(\"570x600\")\n",
    "root.resizable(False,False)\n",
    "root.configure(bg=\"grey\")\n",
    "\n",
    "equation = \"\"\n",
    "\n",
    "def show(value):\n",
    "    global equation\n",
    "    equation+=value\n",
    "    label_result.config(text=equation)\n",
    "\n",
    "def clear():\n",
    "    global equation\n",
    "    equation=\"\"\n",
    "    label_result.config(text=equation)\n",
    "def calculate():\n",
    "    global equation\n",
    "    result =\"\"\n",
    "    if equation !=\"\":\n",
    "        try:\n",
    "            result= eval(equation)\n",
    "        except:\n",
    "            result=\" syntax error\"\n",
    "            equation=\"\"\n",
    "    label_result.config(text=result)\n",
    "\n",
    "label_result= Label(root,width=25,height=2,text='',font=(\"Times new roman\",30))\n",
    "label_result.pack()\n",
    "\n",
    "\n",
    "Button(root,text=\"C\",width=5,height=1,font=(\"ariel\",30,\"bold\"),bd=1,fg='#fff',bg=\"Orange\",command=lambda: clear()).place(x=10,y=100)\n",
    "Button(root,text=\"/\",width=5,height=1,font=(\"ariel\",30,\"bold\"),bd=1,fg='#fff',bg=\"Orange\",command=lambda: show(\"/\")).place(x=150,y=100)\n",
    "Button(root,text=\"%\",width=5,height=1,font=(\"ariel\",30,\"bold\"),bd=1,fg='#fff',bg=\"Orange\",command=lambda: show(\"%\")).place(x=290,y=100)\n",
    "Button(root,text=\"*\",width=5,height=1,font=(\"ariel\",30,\"bold\"),bd=1,fg='#fff',bg=\"Orange\",command=lambda: show(\"*\")).place(x=430,y=100)\n",
    "\n",
    "Button(root,text=\"1\",width=5,height=1,font=(\"ariel\",30,\"bold\"),bd=1,fg='#fff',bg=\"Orange\",command=lambda: show(\"1\")).place(x=10,y=200)\n",
    "Button(root,text=\"2\",width=5,height=1,font=(\"ariel\",30,\"bold\"),bd=1,fg='#fff',bg=\"Orange\",command=lambda: show(\"2\")).place(x=150,y=200)\n",
    "Button(root,text=\"3\",width=5,height=1,font=(\"ariel\",30,\"bold\"),bd=1,fg='#fff',bg=\"Orange\",command=lambda: show(\"3\")).place(x=290,y=200)\n",
    "Button(root,text=\"4\",width=5,height=1,font=(\"ariel\",30,\"bold\"),bd=1,fg='#fff',bg=\"Orange\",command=lambda: show(\"4\")).place(x=430,y=200)\n",
    "\n",
    "Button(root,text=\"5\",width=5,height=1,font=(\"ariel\",30,\"bold\"),bd=1,fg='#fff',bg=\"Orange\",command=lambda: show(\"5\")).place(x=10,y=300)\n",
    "Button(root,text=\"6\",width=5,height=1,font=(\"ariel\",30,\"bold\"),bd=1,fg='#fff',bg=\"Orange\",command=lambda: show(\"6\")).place(x=150,y=300)\n",
    "Button(root,text=\"7\",width=5,height=1,font=(\"ariel\",30,\"bold\"),bd=1,fg='#fff',bg=\"Orange\",command=lambda: show(\"7\")).place(x=290,y=300)\n",
    "Button(root,text=\"8\",width=5,height=1,font=(\"ariel\",30,\"bold\"),bd=1,fg='#fff',bg=\"Orange\",command=lambda: show(\"8\")).place(x=430,y=300)\n",
    "\n",
    "Button(root,text=\"9\",width=5,height=1,font=(\"ariel\",30,\"bold\"),bd=1,fg='#fff',bg=\"Orange\",command=lambda: show(\"9\")).place(x=10,y=400)\n",
    "Button(root,text=\"0\",width=5,height=1,font=(\"ariel\",30,\"bold\"),bd=1,fg='#fff',bg=\"Orange\",command=lambda: show(\"0\")).place(x=150,y=400)\n",
    "Button(root,text=\"+\",width=5,height=1,font=(\"ariel\",30,\"bold\"),bd=1,fg='#fff',bg=\"Orange\",command=lambda: show(\"+\")).place(x=290,y=400)\n",
    "Button(root,text=\"-\",width=5,height=1,font=(\"ariel\",30,\"bold\"),bd=1,fg='#fff',bg=\"Orange\",command=lambda: show(\"-\")).place(x=430,y=400)\n",
    "\n",
    "\n",
    "Button(root,text=\".\",width=5,height=1,font=(\"ariel\",30,\"bold\"),bd=1,fg=\"#fff\",bg=\"Orange\",command=lambda: show(\".\")).place(x=150,y=500)\n",
    "Button(root,text=\"=\",width=5,height=1,font=(\"ariel\",30,\"bold\"),bd=1,fg=\"#fff\",bg=\"Orange\",command=lambda: calculate()).place(x=290,y=500)\n",
    "\n",
    "root.mainloop()"
   ]
  },
  {
   "cell_type": "code",
   "execution_count": 6,
   "id": "ddb076c2",
   "metadata": {},
   "outputs": [
    {
     "name": "stdout",
     "output_type": "stream",
     "text": [
      "Enter Your input: ((146*5)+9-13/7)\n",
      "737.1428571428571\n"
     ]
    }
   ],
   "source": [
    "n=input(\"Enter Your input: \")\n",
    "print(eval(n))"
   ]
  },
  {
   "cell_type": "code",
   "execution_count": 47,
   "id": "8d2d2d5a",
   "metadata": {},
   "outputs": [
    {
     "name": "stdout",
     "output_type": "stream",
     "text": [
      "2**10\n",
      "1024\n"
     ]
    }
   ],
   "source": [
    "def expression(n):\n",
    "    print(eval(n))\n",
    "i_p=input()\n",
    "expression(i_p)"
   ]
  },
  {
   "cell_type": "code",
   "execution_count": null,
   "id": "78aab4a5",
   "metadata": {},
   "outputs": [],
   "source": []
  }
 ],
 "metadata": {
  "kernelspec": {
   "display_name": "Python 3 (ipykernel)",
   "language": "python",
   "name": "python3"
  },
  "language_info": {
   "codemirror_mode": {
    "name": "ipython",
    "version": 3
   },
   "file_extension": ".py",
   "mimetype": "text/x-python",
   "name": "python",
   "nbconvert_exporter": "python",
   "pygments_lexer": "ipython3",
   "version": "3.9.12"
  }
 },
 "nbformat": 4,
 "nbformat_minor": 5
}
