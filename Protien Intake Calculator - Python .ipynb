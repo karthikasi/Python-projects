{
 "cells": [
  {
   "cell_type": "code",
   "execution_count": 19,
   "id": "fc4b1308",
   "metadata": {},
   "outputs": [
    {
     "name": "stdout",
     "output_type": "stream",
     "text": [
      "PROTEIN INTAKE CALCULATOR\n",
      "Disclaimer : This is general recommendation not for all if your physically active or taking transition you need more protien (current protien  in grms multiplied by 2) than this so please consult professional healthcare before take this.. \n",
      "Please enter the Unit of Weight value you entered above in lower case letters only (e.g. kg/lbs): kg\n",
      "Enter your age in digits: 45\n",
      "Enter your Gender (Male/Female): Female\n",
      "Enter your weight: 50\n",
      "Your protein Intake per Day: 39.69\n"
     ]
    }
   ],
   "source": [
    "def Unit_per_day(Unit, Age, Gender):\n",
    "    weight = int(input(\"Enter your weight: \"))\n",
    "    if Gender == \"Male\":\n",
    "        if Unit == \"kg\" and 5 < Age <= 17:\n",
    "            protein = (weight * 2.205) * 0.45\n",
    "        elif Unit == \"kg\" and Age > 18:\n",
    "            protein = (weight * 2.205) * 0.36\n",
    "        elif Unit == \"lbs\" and 5 < Age <= 17:\n",
    "            protein = weight * 0.45\n",
    "        elif Unit == \"lbs\" and Age > 18:\n",
    "            protein = weight * 0.36\n",
    "\n",
    "    elif Gender == \"Female\":\n",
    "        if Unit == \"kg\" and 5 < Age <= 17:\n",
    "            protein = (weight * 2.205) * 0.45\n",
    "        elif Unit == \"kg\" and Age > 18:\n",
    "            protein = (weight * 2.205) * 0.36\n",
    "        elif Unit == \"lbs\" and 5 < Age <= 17:\n",
    "            protein = weight * 0.45\n",
    "        elif Unit == \"lbs\" and Age > 18:\n",
    "            protein = weight * 0.36\n",
    "    else:\n",
    "        print(\"Please enter proper Gender, Unit and Age values.\")\n",
    "\n",
    "    print(\"Your protein Intake per Day:\", protein)\n",
    "\n",
    "print(\"PROTEIN INTAKE CALCULATOR\")\n",
    "print(\"Disclaimer : This is general recommendation not for all if you are adult and physically active or taking transition you need more protien (current protien  in grms multiplied by 2) than this so please consult professional healthcare before take this.. \")\n",
    "Unit = input(\"Please enter the Unit of Weight value you entered above in lower case letters only (e.g. kg/lbs): \")\n",
    "Age = int(input(\"Enter your age in digits: \"))\n",
    "Gender = input(\"Enter your Gender (Male/Female): \")\n",
    "Unit_per_day(Unit, Age, Gender)\n"
   ]
  },
  {
   "cell_type": "code",
   "execution_count": null,
   "id": "871a2777",
   "metadata": {},
   "outputs": [],
   "source": []
  }
 ],
 "metadata": {
  "kernelspec": {
   "display_name": "Python 3 (ipykernel)",
   "language": "python",
   "name": "python3"
  },
  "language_info": {
   "codemirror_mode": {
    "name": "ipython",
    "version": 3
   },
   "file_extension": ".py",
   "mimetype": "text/x-python",
   "name": "python",
   "nbconvert_exporter": "python",
   "pygments_lexer": "ipython3",
   "version": "3.9.13"
  }
 },
 "nbformat": 4,
 "nbformat_minor": 5
}
