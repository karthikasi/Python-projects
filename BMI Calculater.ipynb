{
 "cells": [
  {
   "cell_type": "markdown",
   "id": "60a61bad",
   "metadata": {},
   "source": [
    "# BMI- Calculater"
   ]
  },
  {
   "cell_type": "code",
   "execution_count": 5,
   "id": "7bf124ee",
   "metadata": {},
   "outputs": [
    {
     "name": "stdout",
     "output_type": "stream",
     "text": [
      "Enter your Weight in Kg : 75\n",
      "Enter your Height in centi-meters : 178\n",
      "Your Body mass index is :  23.671253629592222\n",
      "You are in Normal weight\n"
     ]
    }
   ],
   "source": [
    "weight=float(input(\"Enter your Weight in Kg : \"))\n",
    "height= float(input(\"Enter your Height in centi-meters : \"))\n",
    "height=height/100\n",
    "BMI = (weight)/(height*height)\n",
    "print(\"Your Body mass index is : \",BMI)\n",
    "if BMI<=18.5:\n",
    "    print(\"You are iin Underweight\")\n",
    "elif BMI> 18.5 and BMI <=24:\n",
    "    print(\"You are in Normal weight\")\n",
    "elif BMI > 24 and BMI <=29.9:\n",
    "    print(\"You are Overweight\")\n",
    "elif BMI > 30:\n",
    "    print(\"You are Obese\")\n",
    "else:\n",
    "    print(\"invalid Input \")\n",
    "    "
   ]
  },
  {
   "cell_type": "code",
   "execution_count": null,
   "id": "df03bedd",
   "metadata": {},
   "outputs": [],
   "source": []
  },
  {
   "cell_type": "code",
   "execution_count": null,
   "id": "96a7dfd9",
   "metadata": {},
   "outputs": [],
   "source": []
  }
 ],
 "metadata": {
  "kernelspec": {
   "display_name": "Python 3 (ipykernel)",
   "language": "python",
   "name": "python3"
  },
  "language_info": {
   "codemirror_mode": {
    "name": "ipython",
    "version": 3
   },
   "file_extension": ".py",
   "mimetype": "text/x-python",
   "name": "python",
   "nbconvert_exporter": "python",
   "pygments_lexer": "ipython3",
   "version": "3.9.12"
  }
 },
 "nbformat": 4,
 "nbformat_minor": 5
}
